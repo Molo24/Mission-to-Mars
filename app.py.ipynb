{
 "cells": [
  {
   "cell_type": "code",
   "execution_count": 7,
   "id": "8bf2059f",
   "metadata": {
    "scrolled": false
   },
   "outputs": [],
   "source": [
    "# The first line says that we'll use Flask to render a template, redirecting to another url, and creating a URL.\n",
    "# The second line says we'll use PyMongo to interact with our Mongo database.\n",
    "# The third line says that to use the scraping code, we will convert from Jupyter notebook to Python.\n",
    "\n",
    "from flask import Flask, render_template, redirect, url_for\n",
    "from flask_pymongo import PyMongo\n",
    "import scraping"
   ]
  },
  {
   "cell_type": "code",
   "execution_count": 9,
   "id": "53ee16d9",
   "metadata": {},
   "outputs": [],
   "source": [
    "# set up Flask\n",
    "app = Flask(__name__)"
   ]
  },
  {
   "cell_type": "code",
   "execution_count": 11,
   "id": "31778d41",
   "metadata": {},
   "outputs": [],
   "source": [
    "# Use flask_pymongo to set up mongo connection\n",
    "# app.config[\"MONGO_URI\"] tells Python that our app will connect to Mongo using a URI, a uniform resource identifier similar to a URL.\n",
    "# \"mongodb://localhost:27017/mars_app\" is the URI we'll be using to connect our app to Mongo.\n",
    "#   This URI is saying that the app can reach Mongo through our localhost server, using port 27017, using a database named \"mars_app\".\n",
    "app.config[\"MONGO_URI\"] = \"mongodb://localhost:27017/mars_app\"\n",
    "mongo = PyMongo(app)"
   ]
  },
  {
   "cell_type": "code",
   "execution_count": 12,
   "id": "89d88f18",
   "metadata": {},
   "outputs": [],
   "source": [
    "# define the route for the HTML page\n",
    "# @app.route(\"/\"), tells Flask what to display when we're looking at the home page, index.html (index.html is the default HTML file that we'll use to display the content we've scraped). \n",
    "#   This means that when we visit our web app's HTML page, we will see the home page.\n",
    "# Within the def index():\n",
    "#   mars = mongo.db.mars.find_one() uses PyMongo to find the \"mars\" collection in our database, which we will create when we convert our Jupyter scraping code to Python Script.\n",
    "#   We will also assign that path to themars variable for use later.\n",
    "# return render_template(\"index.html\" tells Flask to return an HTML template using an index.html file.\n",
    "#   We'll create this file after we build the Flask routes.\n",
    "# , mars=mars) tells Python to use the \"mars\" collection in MongoDB.\n",
    "@app.route(\"/\")\n",
    "def index():\n",
    "   mars = mongo.db.mars.find_one()\n",
    "   return render_template(\"index.html\", mars=mars)\n",
    "# This function is what links our visual representation of our work, our web app, to the code that powers it."
   ]
  },
  {
   "cell_type": "code",
   "execution_count": 13,
   "id": "b702ebee",
   "metadata": {},
   "outputs": [],
   "source": [
    "# Our next function will set up our scraping route.\n",
    "#   This route will be the \"button\" of the web application, the one that will scrape updated data when we tell it to from the homepage of our web app.\n",
    "#   It'll be tied to a button that will run the code when it's clicked."
   ]
  },
  {
   "cell_type": "code",
   "execution_count": 14,
   "id": "5d3b82b5",
   "metadata": {},
   "outputs": [],
   "source": [
    "# The first line, @app.route(“/scrape”) defines the route that Flask will be using.\n",
    "#   This route, “/scrape”, will run the function that we create just beneath it.\n",
    "# The next lines allow us to access the database, scrape new data using our scraping.py script, update the database, and return a message when successful.\n",
    "# First, we define it with def scrape():.\n",
    "#   Then, we assign a new variable that points to our Mongo database: mars = mongo.db.mars.\n",
    "#   Next, we created a new variable to hold the newly scraped data: mars_data = scraping.scrape_all().\n",
    "#     In this line, we're referencing the scrape_all function in the scraping.py file exported from Jupyter Notebook.\n",
    "#   Now that we've gathered new data, we need to update the database using .update().\n",
    "#     We're inserting data, so first we'll need to add an empty JSON object with {} in place of the query_parameter.\n",
    "#     Next, we'll use the data we have stored in mars_data.\n",
    "#     Finally, the option we'll include is upsert=True.\n",
    "#       This indicates to Mongo to create a new document if one doesn't already exist, and new data will always be saved\n",
    "#   Finally, we will add a redirect after successfully scraping the data: return redirect('/', code=302).\n",
    "#     This will navigate our page back to / where we can see the updated content.\n",
    "@app.route(\"/scrape\")\n",
    "def scrape():\n",
    "   mars = mongo.db.mars\n",
    "   mars_data = scraping.scrape_all()\n",
    "   mars.update({}, mars_data, upsert=True)\n",
    "   return redirect('/', code=302)"
   ]
  },
  {
   "cell_type": "code",
   "execution_count": null,
   "id": "a93cbcb4",
   "metadata": {},
   "outputs": [
    {
     "name": "stdout",
     "output_type": "stream",
     "text": [
      " * Serving Flask app \"__main__\" (lazy loading)\n",
      " * Environment: production\n",
      "   WARNING: This is a development server. Do not use it in a production deployment.\n",
      "   Use a production WSGI server instead.\n",
      " * Debug mode: off\n"
     ]
    },
    {
     "name": "stderr",
     "output_type": "stream",
     "text": [
      " * Running on http://127.0.0.1:5000/ (Press CTRL+C to quit)\n",
      "[2021-10-22 23:07:32,860] ERROR in app: Exception on / [GET]\n",
      "Traceback (most recent call last):\n",
      "  File \"E:\\anaconda3\\envs\\PythonData\\lib\\site-packages\\flask\\app.py\", line 2447, in wsgi_app\n",
      "    response = self.full_dispatch_request()\n",
      "  File \"E:\\anaconda3\\envs\\PythonData\\lib\\site-packages\\flask\\app.py\", line 1952, in full_dispatch_request\n",
      "    rv = self.handle_user_exception(e)\n",
      "  File \"E:\\anaconda3\\envs\\PythonData\\lib\\site-packages\\flask\\app.py\", line 1821, in handle_user_exception\n",
      "    reraise(exc_type, exc_value, tb)\n",
      "  File \"E:\\anaconda3\\envs\\PythonData\\lib\\site-packages\\flask\\_compat.py\", line 39, in reraise\n",
      "    raise value\n",
      "  File \"E:\\anaconda3\\envs\\PythonData\\lib\\site-packages\\flask\\app.py\", line 1950, in full_dispatch_request\n",
      "    rv = self.dispatch_request()\n",
      "  File \"E:\\anaconda3\\envs\\PythonData\\lib\\site-packages\\flask\\app.py\", line 1936, in dispatch_request\n",
      "    return self.view_functions[rule.endpoint](**req.view_args)\n",
      "  File \"<ipython-input-12-121ebe1fdd05>\", line 13, in index\n",
      "    return render_template(\"index.html\", mars=mars)\n",
      "  File \"E:\\anaconda3\\envs\\PythonData\\lib\\site-packages\\flask\\templating.py\", line 138, in render_template\n",
      "    ctx.app.jinja_env.get_or_select_template(template_name_or_list),\n",
      "  File \"E:\\anaconda3\\envs\\PythonData\\lib\\site-packages\\jinja2\\environment.py\", line 930, in get_or_select_template\n",
      "    return self.get_template(template_name_or_list, parent, globals)\n",
      "  File \"E:\\anaconda3\\envs\\PythonData\\lib\\site-packages\\jinja2\\environment.py\", line 883, in get_template\n",
      "    return self._load_template(name, self.make_globals(globals))\n",
      "  File \"E:\\anaconda3\\envs\\PythonData\\lib\\site-packages\\jinja2\\environment.py\", line 857, in _load_template\n",
      "    template = self.loader.load(self, name, globals)\n",
      "  File \"E:\\anaconda3\\envs\\PythonData\\lib\\site-packages\\jinja2\\loaders.py\", line 115, in load\n",
      "    source, filename, uptodate = self.get_source(environment, name)\n",
      "  File \"E:\\anaconda3\\envs\\PythonData\\lib\\site-packages\\flask\\templating.py\", line 60, in get_source\n",
      "    return self._get_source_fast(environment, template)\n",
      "  File \"E:\\anaconda3\\envs\\PythonData\\lib\\site-packages\\flask\\templating.py\", line 89, in _get_source_fast\n",
      "    raise TemplateNotFound(template)\n",
      "jinja2.exceptions.TemplateNotFound: index.html\n",
      "127.0.0.1 - - [22/Oct/2021 23:07:32] \"\u001b[35m\u001b[1mGET / HTTP/1.1\u001b[0m\" 500 -\n",
      "127.0.0.1 - - [22/Oct/2021 23:07:32] \"\u001b[33mGET /favicon.ico HTTP/1.1\u001b[0m\" 404 -\n"
     ]
    }
   ],
   "source": [
    "#  final bit of code we need for Flask is to tell it to run.\n",
    "if __name__ == \"__main__\":\n",
    "   app.run()"
   ]
  },
  {
   "cell_type": "code",
   "execution_count": null,
   "id": "7cc169d5",
   "metadata": {},
   "outputs": [],
   "source": []
  }
 ],
 "metadata": {
  "kernelspec": {
   "display_name": "PythonData",
   "language": "python",
   "name": "pythondata"
  },
  "language_info": {
   "codemirror_mode": {
    "name": "ipython",
    "version": 3
   },
   "file_extension": ".py",
   "mimetype": "text/x-python",
   "name": "python",
   "nbconvert_exporter": "python",
   "pygments_lexer": "ipython3",
   "version": "3.7.10"
  }
 },
 "nbformat": 4,
 "nbformat_minor": 5
}
